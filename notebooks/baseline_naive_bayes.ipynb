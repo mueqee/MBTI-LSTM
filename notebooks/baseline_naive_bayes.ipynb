{
  "cells": [
    {
      "cell_type": "markdown",
      "metadata": {},
      "source": [
        "# Baseline. Naive Bayes + Bag-of-Words\n",
        "\n",
        "---\n",
        "\n",
        "Классификация дихотомий MBTI с помощью Bag-of-Words + Multinomial Naive Bayes.\n",
        "\n",
        "**Архитектура модели:**\n",
        "- Multinomial Naive Bayes на Bag-of-Words n-граммах (1-2)\n",
        "- 4 бинарных классификатора для дихотомий: I/E, N/S, T/F, J/P\n",
        "\n",
        "**Метрики:** accuracy и F1 для каждой дихотомии + exact match\n",
        "\n",
        "---\n",
        "\n",
        "vers. 1.0.0\n"
      ]
    },
    {
      "cell_type": "markdown",
      "metadata": {},
      "source": [
        "## 1. Импорт библиотек\n",
        "\n",
        "Импорт pandas, numpy, sklearn, matplotlib, seaborn"
      ]
    },
    {
      "cell_type": "code",
      "execution_count": null,
      "metadata": {},
      "outputs": [],
      "source": [
        "%pip install -q scikit-learn pandas numpy matplotlib seaborn\n",
        "\n",
        "import os\n",
        "import sys\n",
        "import pandas as pd\n",
        "import numpy as np\n",
        "from sklearn.feature_extraction.text import CountVectorizer\n",
        "from sklearn.naive_bayes import MultinomialNB\n",
        "from sklearn.metrics import accuracy_score, precision_recall_fscore_support\n",
        "from sklearn.model_selection import train_test_split\n",
        "import matplotlib.pyplot as plt\n",
        "import seaborn as sns\n",
        "\n",
        "# Добавляем корень проекта, чтобы импортировать препроцессор\n",
        "project_root = os.path.abspath('..')\n",
        "sys.path.append(project_root)\n",
        "\n",
        "from src.data.preprocessor import MBTIPostPreprocessor\n",
        "\n",
        "print(\"✅ Библиотеки импортированы\")\n"
      ]
    },
    {
      "cell_type": "markdown",
      "metadata": {},
      "source": [
        "## 2. Загрузка и первичный анализ датасета\n",
        "\n",
        "* Файл: `data/raw/mbti_dataset.csv`\n",
        "* Колонки: `type`, `posts`\n",
        "* Проверяем размер, распределение классов, пример поста\n"
      ]
    },
    {
      "cell_type": "code",
      "execution_count": null,
      "metadata": {},
      "outputs": [],
      "source": [
        "# Загрузка датасета\n",
        "DATA_PATH = '../data/raw/mbti_dataset.csv'\n",
        "\n",
        "df = pd.read_csv(DATA_PATH)\n",
        "print(f\"📊 Размер: {df.shape}\")\n",
        "print(df.head(2))\n",
        "\n",
        "# Распределение типов\n",
        "plt.figure(figsize=(10,4))\n",
        "ax = df['type'].value_counts().plot(kind='bar', color='steelblue')\n",
        "plt.title('Распределение MBTI типов')\n",
        "plt.xticks(rotation=45)\n",
        "plt.show()\n",
        "\n",
        "print(\"\\nПример поста:\\n\", df['posts'].iloc[0][:300], '...')\n"
      ]
    },
    {
      "cell_type": "markdown",
      "metadata": {},
      "source": [
        "## 3. Предобработка текста\n",
        "\n",
        "Используем `MBTIPostPreprocessor` (тот же, что в LSTM-пайплайне): \n",
        "* lowercase, удаление URL/спецсимволов, стоп-слова, лемматизация.\n",
        "* Преобразуем каждый пост в очищенную строку для Bag-of-Words.\n"
      ]
    },
    {
      "cell_type": "code",
      "execution_count": null,
      "metadata": {},
      "outputs": [],
      "source": [
        "# Предобработка всех постов (~2-3 мин на CPU)\n",
        "preprocessor = MBTIPostPreprocessor(\n",
        "    lowercase=True,\n",
        "    remove_urls=True,\n",
        "    remove_special_chars=True,\n",
        "    remove_stopwords=True,\n",
        "    lemmatize=True\n",
        ")\n",
        "\n",
        "df['clean_text'] = df['posts'].apply(preprocessor.preprocess_to_string)\n",
        "print(df[['posts', 'clean_text']].head(1).iloc[0].to_string())\n"
      ]
    },
    {
      "cell_type": "markdown",
      "metadata": {},
      "source": [
        "## 4. Bag-of-Words векторизация\n",
        "\n",
        "* `CountVectorizer(ngram_range=(1,2), max_features=10_000, stop_words='english')`\n",
        "* Получаем матрицу признаков `X`.\n"
      ]
    },
    {
      "cell_type": "code",
      "execution_count": null,
      "metadata": {},
      "outputs": [],
      "source": [
        "vectorizer = CountVectorizer(ngram_range=(1,2), max_features=10_000, stop_words='english')\n",
        "X = vectorizer.fit_transform(df['clean_text'])\n",
        "print(f\"Матрица признаков: {X.shape}\")\n"
      ]
    },
    {
      "cell_type": "markdown",
      "metadata": {},
      "source": [
        "## 5. Кодирование меток и разбиение выборки\n",
        "\n",
        "* Каждая дихотомия — независимая бинарная задача.\n",
        "* Создаём `y_dict` с 4 бинарными векторами.\n",
        "* Используем `train_test_split` (70/30) с `stratify` по полной MBTI-строке, чтобы сохранить баланс.\n"
      ]
    },
    {
      "cell_type": "code",
      "execution_count": null,
      "metadata": {},
      "outputs": [],
      "source": [
        "# Кодирование дихотомий\n",
        "DICHOTOMIES = [(0, 'IE'), (1, 'NS'), (2, 'TF'), (3, 'JP')]\n",
        "\n",
        "y_dict = {}\n",
        "for idx, name in DICHOTOMIES:\n",
        "    y = np.where(df['type'].str.upper().str[idx] == name[1], 1, 0)\n",
        "    y_dict[name] = y\n",
        "\n",
        "# Train/Test split индексов (общий stratifiy)\n",
        "train_idx, test_idx = train_test_split(\n",
        "    np.arange(len(df)), test_size=0.3, stratify=df['type'], random_state=42)\n",
        "\n",
        "X_train, X_test = X[train_idx], X[test_idx]\n",
        "print(\"Train shape:\", X_train.shape, \" Test shape:\", X_test.shape)\n"
      ]
    },
    {
      "cell_type": "markdown",
      "metadata": {},
      "source": [
        "## 6. Обучение Multinomial Naive Bayes\n",
        "\n",
        "* Обучаем 4 модели — по одной на дихотомию.\n",
        "* Сохраняем метрики в `results`.\n"
      ]
    },
    {
      "cell_type": "code",
      "execution_count": null,
      "metadata": {},
      "outputs": [],
      "source": [
        "models = {}\n",
        "results = {}\n",
        "\n",
        "for _, name in DICHOTOMIES:\n",
        "    y_train = y_dict[name][train_idx]\n",
        "    y_test = y_dict[name][test_idx]\n",
        "\n",
        "    clf = MultinomialNB(alpha=1.0)\n",
        "    clf.fit(X_train, y_train)\n",
        "    models[name] = clf\n",
        "\n",
        "    y_pred = clf.predict(X_test)\n",
        "    acc = accuracy_score(y_test, y_pred)\n",
        "    prec, rec, f1, _ = precision_recall_fscore_support(y_test, y_pred, average='binary', zero_division=0)\n",
        "\n",
        "    results[name] = {'acc': acc, 'prec': prec, 'rec': rec, 'f1': f1}\n",
        "    print(f\"{name}: Acc={acc:.3f} | F1={f1:.3f}\")\n"
      ]
    },
    {
      "cell_type": "markdown",
      "metadata": {},
      "source": [
        "## 7. Exact-match accuracy и сводная таблица\n",
        "\n",
        "* Собираем предсказания всех 4 моделей.\n",
        "* Считаем долю примеров, где угаданы все дихотомии сразу.\n",
        "* Формируем DataFrame `results_df`.\n"
      ]
    },
    {
      "cell_type": "code",
      "execution_count": null,
      "metadata": {},
      "outputs": [],
      "source": [
        "# Exact-match\n",
        "pred_matrix = []\n",
        "for _, name in DICHOTOMIES:\n",
        "    y_pred = models[name].predict(X_test)\n",
        "    pred_matrix.append(y_pred)\n",
        "\n",
        "y_pred_all = np.vstack(pred_matrix).T  # shape (n_samples, 4)\n",
        "\n",
        "y_test_all = np.vstack([y_dict[name][test_idx] for _, name in DICHOTOMIES]).T\n",
        "\n",
        "exact_match = (y_pred_all == y_test_all).all(axis=1).mean()\n",
        "print(f\"\\nExact-match accuracy (полный MBTI тип): {exact_match:.3f}\")\n",
        "\n",
        "# Таблица метрик\n",
        "results_df = pd.DataFrame(results).T\n",
        "results_df\n"
      ]
    },
    {
      "cell_type": "markdown",
      "metadata": {},
      "source": [
        "## 8. Визуализация метрик\n",
        "\n",
        "Bar-plot accuracy и F1 по дихотомиям + сравнение с exact-match.\n"
      ]
    },
    {
      "cell_type": "code",
      "execution_count": null,
      "metadata": {},
      "outputs": [],
      "source": [
        "# Bar plot\n",
        "fig, ax = plt.subplots(1, 2, figsize=(12,4))\n",
        "\n",
        "results_df['acc'].plot(kind='bar', ax=ax[0], color='skyblue')\n",
        "ax[0].set_title('Accuracy по дихотомиям')\n",
        "ax[0].set_ylim(0,1)\n",
        "\n",
        "results_df['f1'].plot(kind='bar', ax=ax[1], color='salmon')\n",
        "ax[1].set_title('F1-score по дихотомиям')\n",
        "ax[1].set_ylim(0,1)\n",
        "\n",
        "plt.tight_layout()\n",
        "plt.show()\n",
        "\n",
        "print(f\"Exact-match accuracy: {exact_match:.3f}\")\n"
      ]
    },
    {
      "cell_type": "markdown",
      "metadata": {},
      "source": [
        "## 9. Выводы\n",
        "\n",
        "* Naive Bayes даёт базовую точность `~0.60` на лучших дихотомиях.\n",
        "* Exact-match ниже (обычно ~0.25-0.30).\n",
        "* БиLSTM из основного ноутбука ожидаемо превосходит NB на **+10-20 p.p.**\n",
        "\n",
        "Дальнейшие шаги:\n",
        "1. Добавить Logistic Regression + TF-IDF.\n",
        "2. Попробовать DistilBERT для fair-сравнения.\n",
        "3. Интегрировать все baseline-результаты в README / отчёт.\n"
      ]
    }
  ],
  "metadata": {
    "language_info": {
      "name": "python"
    }
  },
  "nbformat": 4,
  "nbformat_minor": 2
}
